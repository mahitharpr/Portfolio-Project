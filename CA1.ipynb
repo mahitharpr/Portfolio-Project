{
 "cells": [
  {
   "cell_type": "code",
   "execution_count": 15,
   "id": "749bdc07-1f02-4e84-bf37-c5464daf0932",
   "metadata": {
    "scrolled": true
   },
   "outputs": [],
   "source": [
    "import pandas as pd\n",
    "t1=pd.read_csv(\"/Users/mahithareddy/Downloads/Electric_Vehicle_Population_Data.csv\")\n",
    "t1 #https://catalog.data.gov/dataset/electric-vehicle-population-data\n",
    "import matplotlib.pyplot as plt"
   ]
  },
  {
   "cell_type": "code",
   "execution_count": 2,
   "id": "c1d03416-53e9-417b-97a3-f41a961d46ea",
   "metadata": {},
   "outputs": [
    {
     "data": {
      "text/plain": [
       "67.87783921000518"
      ]
     },
     "execution_count": 2,
     "metadata": {},
     "output_type": "execute_result"
    }
   ],
   "source": [
    "import numpy as np\n",
    "mean_ElectricRange=np.mean(t1[\"Electric Range\"])\n",
    "mean_ElectricRange"
   ]
  },
  {
   "cell_type": "code",
   "execution_count": 3,
   "id": "e4ec0c9d-39f0-4fb3-a15c-f233670d14d3",
   "metadata": {},
   "outputs": [
    {
     "data": {
      "text/plain": [
       "18.0"
      ]
     },
     "execution_count": 3,
     "metadata": {},
     "output_type": "execute_result"
    }
   ],
   "source": [
    "median_ElectricRange=np.median(t1[\"Electric Range\"])\n",
    "median_ElectricRange"
   ]
  },
  {
   "cell_type": "code",
   "execution_count": 4,
   "id": "d268a7e9-736e-4406-bf72-1c702d332214",
   "metadata": {},
   "outputs": [
    {
     "data": {
      "text/plain": [
       "ModeResult(mode=0, count=69698)"
      ]
     },
     "execution_count": 4,
     "metadata": {},
     "output_type": "execute_result"
    }
   ],
   "source": [
    "import scipy\n",
    "from scipy import stats\n",
    "mode_ElectricRange=stats.mode(t1[\"Electric Range\"])\n",
    "mode_ElectricRange"
   ]
  },
  {
   "cell_type": "code",
   "execution_count": 5,
   "id": "f8c82212-1081-4bd7-9e6e-bda441fb8cf8",
   "metadata": {},
   "outputs": [
    {
     "data": {
      "text/plain": [
       "ModeResult(mode=41.0, count=9969)"
      ]
     },
     "execution_count": 5,
     "metadata": {},
     "output_type": "execute_result"
    }
   ],
   "source": [
    "mode_LegislativeDistrict=stats.mode(t1[\"Legislative District\"])\n",
    "mode_LegislativeDistrict"
   ]
  },
  {
   "cell_type": "code",
   "execution_count": 6,
   "id": "45f2f947-4a55-4848-9e6c-27f4ded70394",
   "metadata": {},
   "outputs": [
    {
     "data": {
      "text/plain": [
       "-0.03208453281994661"
      ]
     },
     "execution_count": 6,
     "metadata": {},
     "output_type": "execute_result"
    }
   ],
   "source": [
    "kurtosis_ElectricRange=stats.kurtosis(t1[\"Electric Range\"], axis=0,bias=True)\n",
    "kurtosis_ElectricRange"
   ]
  },
  {
   "cell_type": "code",
   "execution_count": 7,
   "id": "fe409fc7-8384-46f9-9835-37b3ad30aa48",
   "metadata": {},
   "outputs": [
    {
     "data": {
      "text/plain": [
       "1.2194745686980035"
      ]
     },
     "execution_count": 7,
     "metadata": {},
     "output_type": "execute_result"
    }
   ],
   "source": [
    "skew_ElectricRange=stats.skew(t1[\"Electric Range\"], axis=0,bias=True)\n",
    "skew_ElectricRange"
   ]
  },
  {
   "cell_type": "code",
   "execution_count": 8,
   "id": "e1dfe56b-a719-4d2b-b5b9-45da7a79768b",
   "metadata": {},
   "outputs": [
    {
     "data": {
      "text/plain": [
       "96.2296889583934"
      ]
     },
     "execution_count": 8,
     "metadata": {},
     "output_type": "execute_result"
    }
   ],
   "source": [
    "std_ElectricRange=np.std(t1[\"Electric Range\"])\n",
    "std_ElectricRange"
   ]
  },
  {
   "cell_type": "code",
   "execution_count": 9,
   "id": "a49b0816-976f-4528-889b-9dcf883ef261",
   "metadata": {},
   "outputs": [
    {
     "name": "stdout",
     "output_type": "stream",
     "text": [
      "        VIN (1-10)        County               City State  Postal Code  \\\n",
      "0       KM8K33AGXL          King            Seattle    WA      98103.0   \n",
      "1       1C4RJYB61N          King            Bothell    WA      98011.0   \n",
      "2       1C4RJYD61P        Yakima             Yakima    WA      98908.0   \n",
      "3       5YJ3E1EA7J          King           Kirkland    WA      98034.0   \n",
      "4       WBY7Z8C5XJ      Thurston            Olympia    WA      98501.0   \n",
      "...            ...           ...                ...   ...          ...   \n",
      "150477  WBY43AW05P  Grays Harbor          Montesano    WA      98563.0   \n",
      "150478  5YJ3E1EB7P          King            Seattle    WA      98104.0   \n",
      "150479  5YJYGDEEXM          King            Seattle    WA      98109.0   \n",
      "150480  5UXTA6C08P     Snohomish  Mountlake Terrace    WA      98043.0   \n",
      "150481  7SAYGDEF8N        Skagit       Mount Vernon    WA      98273.0   \n",
      "\n",
      "        Model Year     Make           Model  \\\n",
      "0             2020  HYUNDAI            KONA   \n",
      "1             2022     JEEP  GRAND CHEROKEE   \n",
      "2             2023     JEEP  GRAND CHEROKEE   \n",
      "3             2018    TESLA         MODEL 3   \n",
      "4             2018      BMW              I3   \n",
      "...            ...      ...             ...   \n",
      "150477        2023      BMW              I4   \n",
      "150478        2023    TESLA         MODEL 3   \n",
      "150479        2021    TESLA         MODEL Y   \n",
      "150480        2023      BMW              X5   \n",
      "150481        2022    TESLA         MODEL Y   \n",
      "\n",
      "                         Electric Vehicle Type  \\\n",
      "0               Battery Electric Vehicle (BEV)   \n",
      "1       Plug-in Hybrid Electric Vehicle (PHEV)   \n",
      "2       Plug-in Hybrid Electric Vehicle (PHEV)   \n",
      "3               Battery Electric Vehicle (BEV)   \n",
      "4       Plug-in Hybrid Electric Vehicle (PHEV)   \n",
      "...                                        ...   \n",
      "150477          Battery Electric Vehicle (BEV)   \n",
      "150478          Battery Electric Vehicle (BEV)   \n",
      "150479          Battery Electric Vehicle (BEV)   \n",
      "150480  Plug-in Hybrid Electric Vehicle (PHEV)   \n",
      "150481          Battery Electric Vehicle (BEV)   \n",
      "\n",
      "        Clean Alternative Fuel Vehicle (CAFV) Eligibility  Electric Range  \\\n",
      "0                 Clean Alternative Fuel Vehicle Eligible             258   \n",
      "1                   Not eligible due to low battery range              25   \n",
      "2                   Not eligible due to low battery range              25   \n",
      "3                 Clean Alternative Fuel Vehicle Eligible             215   \n",
      "4                 Clean Alternative Fuel Vehicle Eligible              97   \n",
      "...                                                   ...             ...   \n",
      "150477  Eligibility unknown as battery range has not b...               0   \n",
      "150478  Eligibility unknown as battery range has not b...               0   \n",
      "150479  Eligibility unknown as battery range has not b...               0   \n",
      "150480            Clean Alternative Fuel Vehicle Eligible              30   \n",
      "150481  Eligibility unknown as battery range has not b...               0   \n",
      "\n",
      "        Base MSRP  Legislative District  DOL Vehicle ID  \\\n",
      "0               0                  43.0       249675142   \n",
      "1               0                   1.0       233928502   \n",
      "2               0                  14.0       229675939   \n",
      "3               0                  45.0       104714466   \n",
      "4               0                  22.0       185498386   \n",
      "...           ...                   ...             ...   \n",
      "150477          0                  19.0       251204075   \n",
      "150478          0                  43.0       241344414   \n",
      "150479          0                  43.0       180705626   \n",
      "150480          0                   1.0       240473950   \n",
      "150481          0                  40.0       207667589   \n",
      "\n",
      "                       Vehicle Location  \\\n",
      "0          POINT (-122.34301 47.659185)   \n",
      "1          POINT (-122.20578 47.762405)   \n",
      "2       POINT (-120.6027202 46.5965625)   \n",
      "3          POINT (-122.209285 47.71124)   \n",
      "4          POINT (-122.89692 47.043535)   \n",
      "...                                 ...   \n",
      "150477     POINT (-123.60535 46.982215)   \n",
      "150478      POINT (-122.329075 47.6018)   \n",
      "150479     POINT (-122.34848 47.632405)   \n",
      "150480      POINT (-122.30842 47.78416)   \n",
      "150481     POINT (-122.338975 48.41333)   \n",
      "\n",
      "                                         Electric Utility  2020 Census Tract  \\\n",
      "0            CITY OF SEATTLE - (WA)|CITY OF TACOMA - (WA)       5.303300e+10   \n",
      "1           PUGET SOUND ENERGY INC||CITY OF TACOMA - (WA)       5.303302e+10   \n",
      "2                                              PACIFICORP       5.307700e+10   \n",
      "3           PUGET SOUND ENERGY INC||CITY OF TACOMA - (WA)       5.303302e+10   \n",
      "4                                  PUGET SOUND ENERGY INC       5.306701e+10   \n",
      "...                                                   ...                ...   \n",
      "150477  BONNEVILLE POWER ADMINISTRATION||PUD NO 1 OF G...       5.302700e+10   \n",
      "150478       CITY OF SEATTLE - (WA)|CITY OF TACOMA - (WA)       5.303301e+10   \n",
      "150479       CITY OF SEATTLE - (WA)|CITY OF TACOMA - (WA)       5.303301e+10   \n",
      "150480                             PUGET SOUND ENERGY INC       5.306105e+10   \n",
      "150481                             PUGET SOUND ENERGY INC       5.305795e+10   \n",
      "\n",
      "       Range Category  \n",
      "0          Long Range  \n",
      "1         Short Range  \n",
      "2         Short Range  \n",
      "3          Long Range  \n",
      "4         Short Range  \n",
      "...               ...  \n",
      "150477    Short Range  \n",
      "150478    Short Range  \n",
      "150479    Short Range  \n",
      "150480    Short Range  \n",
      "150481    Short Range  \n",
      "\n",
      "[150482 rows x 18 columns]\n"
     ]
    }
   ],
   "source": [
    "t1[\"Range Category\"]=\"\"\n",
    "for x in t1.index:\n",
    "    if t1.loc [x,\"Electric Range\"]>100:\n",
    "        t1.loc[x,\"Range Category\"]=\"Long Range\"\n",
    "    else:\n",
    "        t1.loc[x,\"Range Category\"]=\"Short Range\"\n",
    "print (t1)"
   ]
  },
  {
   "cell_type": "code",
   "execution_count": 20,
   "id": "0e93c1e4-9268-44f2-a354-33827791d38e",
   "metadata": {},
   "outputs": [
    {
     "data": {
      "text/plain": [
       "<matplotlib.legend.Legend at 0x175fbbf10>"
      ]
     },
     "execution_count": 20,
     "metadata": {},
     "output_type": "execute_result"
    },
    {
     "data": {
      "image/png": "[encoded data removed]",
      "text/plain": [
       "<Figure size 640x480 with 1 Axes>"
      ]
     },
     "metadata": {},
     "output_type": "display_data"
    }
   ],
   "source": [
    "\n",
    "#Find the Frequency of the company that makes the EV from column \"Make\"\n",
    "F = pd.crosstab(index=t1['Make'], columns='Count', )\n",
    "\n",
    "#Reset the Index of the Frequency Table\n",
    "F = F.reset_index()\n",
    "\n",
    "#Plot the graph showing the distribution using a histogram\n",
    "plt.hist(F[\"Count\"])  \n",
    "\n",
    "plt.legend(F[\"Make\"],bbox_to_anchor=(1, 1))"
   ]
  },
  {
   "cell_type": "code",
   "execution_count": null,
   "id": "33dca670-e911-41f5-8e2b-870b8d909040",
   "metadata": {},
   "outputs": [],
   "source": []
  }
 ],
 "metadata": {
  "kernelspec": {
   "display_name": "Python 3 (ipykernel)",
   "language": "python",
   "name": "python3"
  },
  "language_info": {
   "codemirror_mode": {
    "name": "ipython",
    "version": 3
   },
   "file_extension": ".py",
   "mimetype": "text/x-python",
   "name": "python",
   "nbconvert_exporter": "python",
   "pygments_lexer": "ipython3",
   "version": "3.11.7"
  }
 },
 "nbformat": 4,
 "nbformat_minor": 5
}
